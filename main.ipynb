{
 "cells": [
  {
   "cell_type": "markdown",
   "id": "7e622d62",
   "metadata": {},
   "source": [
    "# Cargamos la Informacion"
   ]
  },
  {
   "cell_type": "markdown",
   "id": "36e995c9",
   "metadata": {},
   "source": [
    "### Carga de .txt"
   ]
  },
  {
   "cell_type": "code",
   "execution_count": 39,
   "id": "e54ff245",
   "metadata": {},
   "outputs": [
    {
     "data": {
      "text/plain": [
       "33"
      ]
     },
     "execution_count": 39,
     "metadata": {},
     "output_type": "execute_result"
    }
   ],
   "source": [
    "import os\n",
    "\n",
    "# Cargamos todos los .txt\n",
    "ruta = 'sagrada-main/datos/informacion'  \n",
    "textos = []\n",
    "\n",
    "for archivo in os.listdir(ruta):\n",
    "    if archivo.endswith('.txt'):\n",
    "        with open(os.path.join(ruta, archivo), 'r', encoding='utf-8') as f:\n",
    "            textos.append(f.read())\n",
    "\n",
    "# Tenemos 33 textos en total\n",
    "len(textos)"
   ]
  },
  {
   "cell_type": "markdown",
   "id": "3da5e9b1",
   "metadata": {},
   "source": [
    "### Carga de Relaciones"
   ]
  },
  {
   "cell_type": "code",
   "execution_count": 40,
   "id": "78eec74b",
   "metadata": {},
   "outputs": [
    {
     "data": {
      "text/html": [
       "<div>\n",
       "<style scoped>\n",
       "    .dataframe tbody tr th:only-of-type {\n",
       "        vertical-align: middle;\n",
       "    }\n",
       "\n",
       "    .dataframe tbody tr th {\n",
       "        vertical-align: top;\n",
       "    }\n",
       "\n",
       "    .dataframe thead th {\n",
       "        text-align: right;\n",
       "    }\n",
       "</style>\n",
       "<table border=\"1\" class=\"dataframe\">\n",
       "  <thead>\n",
       "    <tr style=\"text-align: right;\">\n",
       "      <th></th>\n",
       "      <th>SUJETO1</th>\n",
       "      <th>RELACION</th>\n",
       "      <th>SUJETO2</th>\n",
       "    </tr>\n",
       "  </thead>\n",
       "  <tbody>\n",
       "    <tr>\n",
       "      <th>0</th>\n",
       "      <td>Daryl Andrews</td>\n",
       "      <td>Sagrada - Diseñador</td>\n",
       "      <td>Daryl is a game designer and a member of the G...</td>\n",
       "    </tr>\n",
       "    <tr>\n",
       "      <th>1</th>\n",
       "      <td>Adrian Adamescu</td>\n",
       "      <td>Sagrada - Diseñador</td>\n",
       "      <td>Adrian is a Game Designer and a member of theG...</td>\n",
       "    </tr>\n",
       "    <tr>\n",
       "      <th>2</th>\n",
       "      <td>Peter Wocken</td>\n",
       "      <td>Sagrada - Diseñador</td>\n",
       "      <td>I am the Head of Graphic Design at Pandasaurus...</td>\n",
       "    </tr>\n",
       "    <tr>\n",
       "      <th>3</th>\n",
       "      <td>Floodgate Games</td>\n",
       "      <td>Sagrada - Editorial</td>\n",
       "      <td>Microbadge:Floodgate Games</td>\n",
       "    </tr>\n",
       "    <tr>\n",
       "      <th>4</th>\n",
       "      <td>Cranio Creations</td>\n",
       "      <td>Sagrada - Editorial</td>\n",
       "      <td>Cranio Creationsis a new and creative Italian ...</td>\n",
       "    </tr>\n",
       "  </tbody>\n",
       "</table>\n",
       "</div>"
      ],
      "text/plain": [
       "            SUJETO1             RELACION  \\\n",
       "0     Daryl Andrews  Sagrada - Diseñador   \n",
       "1   Adrian Adamescu  Sagrada - Diseñador   \n",
       "2      Peter Wocken  Sagrada - Diseñador   \n",
       "3   Floodgate Games  Sagrada - Editorial   \n",
       "4  Cranio Creations  Sagrada - Editorial   \n",
       "\n",
       "                                             SUJETO2  \n",
       "0  Daryl is a game designer and a member of the G...  \n",
       "1  Adrian is a Game Designer and a member of theG...  \n",
       "2  I am the Head of Graphic Design at Pandasaurus...  \n",
       "3                         Microbadge:Floodgate Games  \n",
       "4  Cranio Creationsis a new and creative Italian ...  "
      ]
     },
     "execution_count": 40,
     "metadata": {},
     "output_type": "execute_result"
    }
   ],
   "source": [
    "import pandas as pd\n",
    "\n",
    "# Cargamos los archivos CSV de relaciones\n",
    "ruta_relaciones = 'sagrada-main/datos/relaciones'\n",
    "archivos_deseados = ['relaciones_mediante_links.csv', 'relaciones_sagrada_generadas.csv']\n",
    "dfs_relaciones = []\n",
    "\n",
    "for archivo in os.listdir(ruta_relaciones):\n",
    "    if archivo in archivos_deseados:\n",
    "        ruta_completa = os.path.join(ruta_relaciones, archivo)\n",
    "        df = pd.read_csv(ruta_completa)\n",
    "        dfs_relaciones.append(df)\n",
    "\n",
    "# Concatenamos los 2 DataFrames de relaciones\n",
    "df_relaciones = pd.concat(dfs_relaciones, ignore_index=True)\n",
    "\n",
    "df_relaciones.head(5)"
   ]
  },
  {
   "cell_type": "markdown",
   "id": "72039413",
   "metadata": {},
   "source": [
    "### Carga de Estadísticas"
   ]
  },
  {
   "cell_type": "code",
   "execution_count": 52,
   "id": "41c72ad7",
   "metadata": {},
   "outputs": [
    {
     "data": {
      "text/html": [
       "<div>\n",
       "<style scoped>\n",
       "    .dataframe tbody tr th:only-of-type {\n",
       "        vertical-align: middle;\n",
       "    }\n",
       "\n",
       "    .dataframe tbody tr th {\n",
       "        vertical-align: top;\n",
       "    }\n",
       "\n",
       "    .dataframe thead th {\n",
       "        text-align: right;\n",
       "    }\n",
       "</style>\n",
       "<table border=\"1\" class=\"dataframe\">\n",
       "  <thead>\n",
       "    <tr style=\"text-align: right;\">\n",
       "      <th></th>\n",
       "      <th>GAME STATS</th>\n",
       "      <th>GAME RANKS</th>\n",
       "      <th>PLAY STATS</th>\n",
       "      <th>COLLECTION STATS</th>\n",
       "      <th>PARTS EXCHANGE</th>\n",
       "    </tr>\n",
       "  </thead>\n",
       "  <tbody>\n",
       "    <tr>\n",
       "      <th>0</th>\n",
       "      <td>Avg. Rating 7.472</td>\n",
       "      <td>Overall Rank 213 Historical Rank</td>\n",
       "      <td>All Time Plays 287,803</td>\n",
       "      <td>Own 73,849</td>\n",
       "      <td>Has Parts 19</td>\n",
       "    </tr>\n",
       "    <tr>\n",
       "      <th>1</th>\n",
       "      <td>No. of Ratings 44,408</td>\n",
       "      <td>Abstract Rank 10 Historical Rank</td>\n",
       "      <td>This Month 512</td>\n",
       "      <td>Prev. Owned 4,914</td>\n",
       "      <td>Want Parts 19</td>\n",
       "    </tr>\n",
       "    <tr>\n",
       "      <th>2</th>\n",
       "      <td>Std. Deviation 1.16</td>\n",
       "      <td>Family Rank 45 Historical Rank</td>\n",
       "      <td>NaN</td>\n",
       "      <td>For Trade 606 Find For-Trade Matches</td>\n",
       "      <td>NaN</td>\n",
       "    </tr>\n",
       "    <tr>\n",
       "      <th>3</th>\n",
       "      <td>Weight 1.92 / 5</td>\n",
       "      <td>NaN</td>\n",
       "      <td>NaN</td>\n",
       "      <td>Want In Trade 832 Find Want-in-Trade Matches</td>\n",
       "      <td>NaN</td>\n",
       "    </tr>\n",
       "    <tr>\n",
       "      <th>4</th>\n",
       "      <td>Comments 6,141</td>\n",
       "      <td>NaN</td>\n",
       "      <td>NaN</td>\n",
       "      <td>Wishlist 9,322</td>\n",
       "      <td>NaN</td>\n",
       "    </tr>\n",
       "  </tbody>\n",
       "</table>\n",
       "</div>"
      ],
      "text/plain": [
       "              GAME STATS                        GAME RANKS  \\\n",
       "0      Avg. Rating 7.472  Overall Rank 213 Historical Rank   \n",
       "1  No. of Ratings 44,408  Abstract Rank 10 Historical Rank   \n",
       "2    Std. Deviation 1.16    Family Rank 45 Historical Rank   \n",
       "3        Weight 1.92 / 5                               NaN   \n",
       "4         Comments 6,141                               NaN   \n",
       "\n",
       "               PLAY STATS                              COLLECTION STATS  \\\n",
       "0  All Time Plays 287,803                                    Own 73,849   \n",
       "1          This Month 512                             Prev. Owned 4,914   \n",
       "2                     NaN          For Trade 606 Find For-Trade Matches   \n",
       "3                     NaN  Want In Trade 832 Find Want-in-Trade Matches   \n",
       "4                     NaN                                Wishlist 9,322   \n",
       "\n",
       "  PARTS EXCHANGE  \n",
       "0   Has Parts 19  \n",
       "1  Want Parts 19  \n",
       "2            NaN  \n",
       "3            NaN  \n",
       "4            NaN  "
      ]
     },
     "execution_count": 52,
     "metadata": {},
     "output_type": "execute_result"
    }
   ],
   "source": [
    "# Cargamos los archivos CSV de estadísticas\n",
    "ruta_estadisticas = 'sagrada-main/datos/estadisticas'\n",
    "dfs_estadisticas = []\n",
    "\n",
    "for archivo in os.listdir(ruta_estadisticas):\n",
    "    if archivo.endswith('.csv'):\n",
    "        ruta_completa = os.path.join(ruta_estadisticas, archivo)\n",
    "        df = pd.read_csv(ruta_completa, sep=';')\n",
    "        dfs_estadisticas.append(df)\n",
    "\n",
    "df_estadisticas = pd.concat(dfs_estadisticas, ignore_index=True)\n",
    "\n",
    "df_estadisticas.head(5)\n"
   ]
  }
 ],
 "metadata": {
  "kernelspec": {
   "display_name": "tp3_entorno_nlp",
   "language": "python",
   "name": "python3"
  },
  "language_info": {
   "codemirror_mode": {
    "name": "ipython",
    "version": 3
   },
   "file_extension": ".py",
   "mimetype": "text/x-python",
   "name": "python",
   "nbconvert_exporter": "python",
   "pygments_lexer": "ipython3",
   "version": "3.10.0"
  }
 },
 "nbformat": 4,
 "nbformat_minor": 5
}
