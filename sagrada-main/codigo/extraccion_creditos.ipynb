{
  "cells": [
    {
      "cell_type": "markdown",
      "metadata": {
        "colab_type": "text",
        "id": "view-in-github"
      },
      "source": [
        "<a href=\"https://colab.research.google.com/github/itssofiarce/sagrada/blob/main/codigo/extraccion_creditos.ipynb\" target=\"_parent\"><img src=\"https://colab.research.google.com/assets/colab-badge.svg\" alt=\"Open In Colab\"/></a>"
      ]
    },
    {
      "cell_type": "code",
      "execution_count": 1,
      "metadata": {
        "colab": {
          "base_uri": "https://localhost:8080/"
        },
        "id": "OVOFLu4MTIjL",
        "outputId": "175800f8-3975-4221-ca09-bed9d33c5154"
      },
      "outputs": [
        {
          "name": "stderr",
          "output_type": "stream",
          "text": [
            "'apt-get' is not recognized as an internal or external command,\n",
            "operable program or batch file.\n"
          ]
        },
        {
          "name": "stdout",
          "output_type": "stream",
          "text": [
            "Requirement already satisfied: selenium in c:\\users\\marya\\appdata\\local\\packages\\pythonsoftwarefoundation.python.3.11_qbz5n2kfra8p0\\localcache\\local-packages\\python311\\site-packages (4.32.0)\n",
            "Requirement already satisfied: webdriver-manager in c:\\users\\marya\\appdata\\local\\packages\\pythonsoftwarefoundation.python.3.11_qbz5n2kfra8p0\\localcache\\local-packages\\python311\\site-packages (4.0.2)\n",
            "Requirement already satisfied: flask in c:\\users\\marya\\appdata\\local\\packages\\pythonsoftwarefoundation.python.3.11_qbz5n2kfra8p0\\localcache\\local-packages\\python311\\site-packages (3.1.0)\n",
            "Requirement already satisfied: urllib3<3,>=1.26 in c:\\users\\marya\\appdata\\local\\packages\\pythonsoftwarefoundation.python.3.11_qbz5n2kfra8p0\\localcache\\local-packages\\python311\\site-packages (from urllib3[socks]<3,>=1.26->selenium) (2.4.0)\n",
            "Requirement already satisfied: trio~=0.17 in c:\\users\\marya\\appdata\\local\\packages\\pythonsoftwarefoundation.python.3.11_qbz5n2kfra8p0\\localcache\\local-packages\\python311\\site-packages (from selenium) (0.30.0)\n",
            "Requirement already satisfied: trio-websocket~=0.9 in c:\\users\\marya\\appdata\\local\\packages\\pythonsoftwarefoundation.python.3.11_qbz5n2kfra8p0\\localcache\\local-packages\\python311\\site-packages (from selenium) (0.12.2)\n",
            "Requirement already satisfied: certifi>=2021.10.8 in c:\\users\\marya\\appdata\\local\\packages\\pythonsoftwarefoundation.python.3.11_qbz5n2kfra8p0\\localcache\\local-packages\\python311\\site-packages (from selenium) (2025.4.26)\n",
            "Requirement already satisfied: typing_extensions~=4.9 in c:\\users\\marya\\appdata\\local\\packages\\pythonsoftwarefoundation.python.3.11_qbz5n2kfra8p0\\localcache\\local-packages\\python311\\site-packages (from selenium) (4.13.1)\n",
            "Requirement already satisfied: websocket-client~=1.8 in c:\\users\\marya\\appdata\\local\\packages\\pythonsoftwarefoundation.python.3.11_qbz5n2kfra8p0\\localcache\\local-packages\\python311\\site-packages (from selenium) (1.8.0)\n",
            "Requirement already satisfied: requests in c:\\users\\marya\\appdata\\local\\packages\\pythonsoftwarefoundation.python.3.11_qbz5n2kfra8p0\\localcache\\local-packages\\python311\\site-packages (from webdriver-manager) (2.32.3)\n",
            "Requirement already satisfied: python-dotenv in c:\\users\\marya\\appdata\\local\\packages\\pythonsoftwarefoundation.python.3.11_qbz5n2kfra8p0\\localcache\\local-packages\\python311\\site-packages (from webdriver-manager) (1.1.0)\n",
            "Requirement already satisfied: packaging in c:\\users\\marya\\appdata\\local\\packages\\pythonsoftwarefoundation.python.3.11_qbz5n2kfra8p0\\localcache\\local-packages\\python311\\site-packages (from webdriver-manager) (24.2)\n",
            "Requirement already satisfied: Werkzeug>=3.1 in c:\\users\\marya\\appdata\\local\\packages\\pythonsoftwarefoundation.python.3.11_qbz5n2kfra8p0\\localcache\\local-packages\\python311\\site-packages (from flask) (3.1.3)\n",
            "Requirement already satisfied: Jinja2>=3.1.2 in c:\\users\\marya\\appdata\\local\\packages\\pythonsoftwarefoundation.python.3.11_qbz5n2kfra8p0\\localcache\\local-packages\\python311\\site-packages (from flask) (3.1.6)\n",
            "Requirement already satisfied: itsdangerous>=2.2 in c:\\users\\marya\\appdata\\local\\packages\\pythonsoftwarefoundation.python.3.11_qbz5n2kfra8p0\\localcache\\local-packages\\python311\\site-packages (from flask) (2.2.0)\n",
            "Requirement already satisfied: click>=8.1.3 in c:\\users\\marya\\appdata\\local\\packages\\pythonsoftwarefoundation.python.3.11_qbz5n2kfra8p0\\localcache\\local-packages\\python311\\site-packages (from flask) (8.1.8)\n",
            "Requirement already satisfied: blinker>=1.9 in c:\\users\\marya\\appdata\\local\\packages\\pythonsoftwarefoundation.python.3.11_qbz5n2kfra8p0\\localcache\\local-packages\\python311\\site-packages (from flask) (1.9.0)\n",
            "Requirement already satisfied: colorama in c:\\users\\marya\\appdata\\local\\packages\\pythonsoftwarefoundation.python.3.11_qbz5n2kfra8p0\\localcache\\local-packages\\python311\\site-packages (from click>=8.1.3->flask) (0.4.6)\n",
            "Requirement already satisfied: MarkupSafe>=2.0 in c:\\users\\marya\\appdata\\local\\packages\\pythonsoftwarefoundation.python.3.11_qbz5n2kfra8p0\\localcache\\local-packages\\python311\\site-packages (from Jinja2>=3.1.2->flask) (3.0.2)\n",
            "Requirement already satisfied: attrs>=23.2.0 in c:\\users\\marya\\appdata\\local\\packages\\pythonsoftwarefoundation.python.3.11_qbz5n2kfra8p0\\localcache\\local-packages\\python311\\site-packages (from trio~=0.17->selenium) (25.3.0)\n",
            "Requirement already satisfied: sortedcontainers in c:\\users\\marya\\appdata\\local\\packages\\pythonsoftwarefoundation.python.3.11_qbz5n2kfra8p0\\localcache\\local-packages\\python311\\site-packages (from trio~=0.17->selenium) (2.4.0)\n",
            "Requirement already satisfied: idna in c:\\users\\marya\\appdata\\local\\packages\\pythonsoftwarefoundation.python.3.11_qbz5n2kfra8p0\\localcache\\local-packages\\python311\\site-packages (from trio~=0.17->selenium) (3.10)\n",
            "Requirement already satisfied: outcome in c:\\users\\marya\\appdata\\local\\packages\\pythonsoftwarefoundation.python.3.11_qbz5n2kfra8p0\\localcache\\local-packages\\python311\\site-packages (from trio~=0.17->selenium) (1.3.0.post0)\n",
            "Requirement already satisfied: sniffio>=1.3.0 in c:\\users\\marya\\appdata\\local\\packages\\pythonsoftwarefoundation.python.3.11_qbz5n2kfra8p0\\localcache\\local-packages\\python311\\site-packages (from trio~=0.17->selenium) (1.3.1)\n",
            "Requirement already satisfied: cffi>=1.14 in c:\\users\\marya\\appdata\\local\\packages\\pythonsoftwarefoundation.python.3.11_qbz5n2kfra8p0\\localcache\\local-packages\\python311\\site-packages (from trio~=0.17->selenium) (1.17.1)\n",
            "Requirement already satisfied: wsproto>=0.14 in c:\\users\\marya\\appdata\\local\\packages\\pythonsoftwarefoundation.python.3.11_qbz5n2kfra8p0\\localcache\\local-packages\\python311\\site-packages (from trio-websocket~=0.9->selenium) (1.2.0)\n",
            "Requirement already satisfied: pysocks!=1.5.7,<2.0,>=1.5.6 in c:\\users\\marya\\appdata\\local\\packages\\pythonsoftwarefoundation.python.3.11_qbz5n2kfra8p0\\localcache\\local-packages\\python311\\site-packages (from urllib3[socks]<3,>=1.26->selenium) (1.7.1)\n",
            "Requirement already satisfied: charset-normalizer<4,>=2 in c:\\users\\marya\\appdata\\local\\packages\\pythonsoftwarefoundation.python.3.11_qbz5n2kfra8p0\\localcache\\local-packages\\python311\\site-packages (from requests->webdriver-manager) (3.4.2)\n",
            "Requirement already satisfied: pycparser in c:\\users\\marya\\appdata\\local\\packages\\pythonsoftwarefoundation.python.3.11_qbz5n2kfra8p0\\localcache\\local-packages\\python311\\site-packages (from cffi>=1.14->trio~=0.17->selenium) (2.22)\n",
            "Requirement already satisfied: h11<1,>=0.9.0 in c:\\users\\marya\\appdata\\local\\packages\\pythonsoftwarefoundation.python.3.11_qbz5n2kfra8p0\\localcache\\local-packages\\python311\\site-packages (from wsproto>=0.14->trio-websocket~=0.9->selenium) (0.16.0)\n"
          ]
        },
        {
          "name": "stderr",
          "output_type": "stream",
          "text": [
            "\n",
            "[notice] A new release of pip is available: 24.0 -> 25.1.1\n",
            "[notice] To update, run: C:\\Users\\marya\\AppData\\Local\\Microsoft\\WindowsApps\\PythonSoftwareFoundation.Python.3.11_qbz5n2kfra8p0\\python.exe -m pip install --upgrade pip\n"
          ]
        },
        {
          "name": "stdout",
          "output_type": "stream",
          "text": [
            "Requirement already satisfied: beautifulsoup4 in c:\\users\\marya\\appdata\\local\\packages\\pythonsoftwarefoundation.python.3.11_qbz5n2kfra8p0\\localcache\\local-packages\\python311\\site-packages (4.13.4)\n",
            "Requirement already satisfied: soupsieve>1.2 in c:\\users\\marya\\appdata\\local\\packages\\pythonsoftwarefoundation.python.3.11_qbz5n2kfra8p0\\localcache\\local-packages\\python311\\site-packages (from beautifulsoup4) (2.7)\n",
            "Requirement already satisfied: typing-extensions>=4.0.0 in c:\\users\\marya\\appdata\\local\\packages\\pythonsoftwarefoundation.python.3.11_qbz5n2kfra8p0\\localcache\\local-packages\\python311\\site-packages (from beautifulsoup4) (4.13.1)\n"
          ]
        },
        {
          "name": "stderr",
          "output_type": "stream",
          "text": [
            "\n",
            "[notice] A new release of pip is available: 24.0 -> 25.1.1\n",
            "[notice] To update, run: C:\\Users\\marya\\AppData\\Local\\Microsoft\\WindowsApps\\PythonSoftwareFoundation.Python.3.11_qbz5n2kfra8p0\\python.exe -m pip install --upgrade pip\n"
          ]
        }
      ],
      "source": [
        "!apt-get update\n",
        "!pip install selenium webdriver-manager flask\n",
        "!pip install beautifulsoup4"
      ]
    },
    {
      "cell_type": "code",
      "execution_count": 2,
      "metadata": {
        "id": "vDuAegVvUVWo"
      },
      "outputs": [],
      "source": [
        "from selenium.webdriver.chrome.options import Options\n",
        "from selenium.webdriver.common.by import By\n",
        "import time\n",
        "import pandas as pd\n",
        "from selenium import webdriver\n",
        "from pathlib import Path\n",
        "\n",
        "\n",
        "# Configuración más detallada de las opciones de Chrome\n",
        "chrome_options = Options()\n",
        "chrome_options.add_argument('--headless')\n",
        "chrome_options.add_argument('--no-sandbox')\n",
        "chrome_options.add_argument('--disable-dev-shm-usage')\n",
        "chrome_options.add_argument('--disable-gpu')"
      ]
    },
    {
      "cell_type": "code",
      "execution_count": 3,
      "metadata": {
        "id": "vm0UzMlMQNZY"
      },
      "outputs": [],
      "source": [
        "driver = webdriver.Chrome(options=chrome_options)\n"
      ]
    },
    {
      "cell_type": "code",
      "execution_count": 4,
      "metadata": {
        "id": "0rkdvrBcUgWR"
      },
      "outputs": [],
      "source": [
        "def get_credits(delay=5):\n",
        "    \"\"\"\n",
        "    Obtener las stats, con selenium, de la página de BGG de Sagrada\n",
        "    args:\n",
        "        delay: int, tiempo de espera para que cargue la página\n",
        "    returns:\n",
        "        pd.DataFrame, tabla con las estadísticas.\n",
        "    \"\"\"\n",
        "\n",
        "    driver = webdriver.Chrome(options=chrome_options)\n",
        "\n",
        "    try:\n",
        "        url = \"https://boardgamegeek.com/boardgame/199561/sagrada/credits\"\n",
        "        driver.get(url)\n",
        "\n",
        "        print(f\"⏳ Esperando {delay} segundos para que carguen los datos...\")\n",
        "        time.sleep(delay)\n",
        "\n",
        "        stats = driver.find_element(By.CLASS_NAME, \"global-body-content-primary.ng-scope\")\n",
        "\n",
        "        # Títulos\n",
        "        titulos = stats.find_elements(By.CLASS_NAME, \"panel-title\")\n",
        "        titulos = [titulo for titulo in titulos if titulo.tag_name == \"h3\"]\n",
        "        titulos_texto = [titulo.text for titulo in titulos]\n",
        "\n",
        "        # Paneles\n",
        "        paneles = stats.find_elements(By.CLASS_NAME, \"panel-body\")\n",
        "\n",
        "        dic_stadisticos = {}\n",
        "\n",
        "        for titulo, panel in zip(titulos_texto, paneles):\n",
        "            if titulo not in [\"RATINGS BREAKDOWN\"]:\n",
        "                stats_items = panel.find_elements(By.CLASS_NAME, \"outline-item\")\n",
        "\n",
        "                for item in stats_items:\n",
        "                    try:\n",
        "                        clave = item.find_element(By.CLASS_NAME, \"outline-item-title\").text.strip()\n",
        "                        desc = item.find_element(By.CLASS_NAME, \"outline-item-description\")\n",
        "                        valores_li = desc.find_elements(By.TAG_NAME, \"li\")\n",
        "\n",
        "                        # Si hay <li>, usamos todos los valores\n",
        "                        if valores_li:\n",
        "                            valores = [li.text.strip() for li in valores_li]\n",
        "                        else:\n",
        "                            valores = [desc.text.strip()]  # Solo un valor\n",
        "\n",
        "                        dic_stadisticos[clave] = valores\n",
        "\n",
        "                    except:\n",
        "                        continue\n",
        "\n",
        "    finally:\n",
        "        driver.quit()\n",
        "\n",
        "    # Convertimos a DataFrame\n",
        "    df = pd.DataFrame.from_dict(dic_stadisticos, orient='index').reset_index()\n",
        "    df.columns = ['Credit'] + [f'Value {i+1}' for i in range(df.shape[1] - 1)]\n",
        "    return df"
      ]
    },
    {
      "cell_type": "code",
      "execution_count": 5,
      "metadata": {
        "colab": {
          "base_uri": "https://localhost:8080/",
          "height": 569
        },
        "id": "HsawLcRCXFGd",
        "outputId": "109cea6d-f0f6-4753-f0c2-4a3851f0e24e"
      },
      "outputs": [
        {
          "name": "stdout",
          "output_type": "stream",
          "text": [
            "⏳ Esperando 5 segundos para que carguen los datos...\n"
          ]
        },
        {
          "data": {
            "text/html": [
              "<div>\n",
              "<style scoped>\n",
              "    .dataframe tbody tr th:only-of-type {\n",
              "        vertical-align: middle;\n",
              "    }\n",
              "\n",
              "    .dataframe tbody tr th {\n",
              "        vertical-align: top;\n",
              "    }\n",
              "\n",
              "    .dataframe thead th {\n",
              "        text-align: right;\n",
              "    }\n",
              "</style>\n",
              "<table border=\"1\" class=\"dataframe\">\n",
              "  <thead>\n",
              "    <tr style=\"text-align: right;\">\n",
              "      <th></th>\n",
              "      <th>Credit</th>\n",
              "      <th>Value 1</th>\n",
              "    </tr>\n",
              "  </thead>\n",
              "  <tbody>\n",
              "    <tr>\n",
              "      <th>0</th>\n",
              "      <td>Primary Name</td>\n",
              "      <td>Sagrada</td>\n",
              "    </tr>\n",
              "    <tr>\n",
              "      <th>1</th>\n",
              "      <td>Alternate Names</td>\n",
              "      <td>Саґрада\\nСаграда\\nซากราดา\\nサグラダ\\n聖家族大教堂 SAGRAD...</td>\n",
              "    </tr>\n",
              "    <tr>\n",
              "      <th>2</th>\n",
              "      <td>Year Released</td>\n",
              "      <td>2017</td>\n",
              "    </tr>\n",
              "    <tr>\n",
              "      <th>3</th>\n",
              "      <td>Designers</td>\n",
              "      <td>Adrian Adamescu\\nDaryl Andrews</td>\n",
              "    </tr>\n",
              "    <tr>\n",
              "      <th>4</th>\n",
              "      <td>Solo Designer</td>\n",
              "      <td>N/A</td>\n",
              "    </tr>\n",
              "    <tr>\n",
              "      <th>5</th>\n",
              "      <td>Artist</td>\n",
              "      <td>Peter Wocken</td>\n",
              "    </tr>\n",
              "    <tr>\n",
              "      <th>6</th>\n",
              "      <td>Publishers</td>\n",
              "      <td>Floodgate Games\\nCranio Creations\\nCrowD Games...</td>\n",
              "    </tr>\n",
              "    <tr>\n",
              "      <th>7</th>\n",
              "      <td>Developer</td>\n",
              "      <td>N/A</td>\n",
              "    </tr>\n",
              "    <tr>\n",
              "      <th>8</th>\n",
              "      <td>Graphic Designer</td>\n",
              "      <td>N/A</td>\n",
              "    </tr>\n",
              "    <tr>\n",
              "      <th>9</th>\n",
              "      <td>Sculptor</td>\n",
              "      <td>N/A</td>\n",
              "    </tr>\n",
              "    <tr>\n",
              "      <th>10</th>\n",
              "      <td>Editor</td>\n",
              "      <td>N/A</td>\n",
              "    </tr>\n",
              "    <tr>\n",
              "      <th>11</th>\n",
              "      <td>Writer</td>\n",
              "      <td>N/A</td>\n",
              "    </tr>\n",
              "    <tr>\n",
              "      <th>12</th>\n",
              "      <td>Insert Designer</td>\n",
              "      <td>N/A</td>\n",
              "    </tr>\n",
              "    <tr>\n",
              "      <th>13</th>\n",
              "      <td>Categories</td>\n",
              "      <td>Dice\\nPuzzle</td>\n",
              "    </tr>\n",
              "    <tr>\n",
              "      <th>14</th>\n",
              "      <td>Mechanisms</td>\n",
              "      <td>Contracts\\nDice Rolling\\nEnd Game Bonuses\\nGri...</td>\n",
              "    </tr>\n",
              "    <tr>\n",
              "      <th>15</th>\n",
              "      <td>Family</td>\n",
              "      <td>Category: Dized Tutorial\\nCities: Barcelona (S...</td>\n",
              "    </tr>\n",
              "  </tbody>\n",
              "</table>\n",
              "</div>"
            ],
            "text/plain": [
              "              Credit                                            Value 1\n",
              "0       Primary Name                                            Sagrada\n",
              "1    Alternate Names  Саґрада\\nСаграда\\nซากราดา\\nサグラダ\\n聖家族大教堂 SAGRAD...\n",
              "2      Year Released                                               2017\n",
              "3          Designers                     Adrian Adamescu\\nDaryl Andrews\n",
              "4      Solo Designer                                                N/A\n",
              "5             Artist                                       Peter Wocken\n",
              "6         Publishers  Floodgate Games\\nCranio Creations\\nCrowD Games...\n",
              "7          Developer                                                N/A\n",
              "8   Graphic Designer                                                N/A\n",
              "9           Sculptor                                                N/A\n",
              "10            Editor                                                N/A\n",
              "11            Writer                                                N/A\n",
              "12   Insert Designer                                                N/A\n",
              "13        Categories                                       Dice\\nPuzzle\n",
              "14        Mechanisms  Contracts\\nDice Rolling\\nEnd Game Bonuses\\nGri...\n",
              "15            Family  Category: Dized Tutorial\\nCities: Barcelona (S..."
            ]
          },
          "execution_count": 5,
          "metadata": {},
          "output_type": "execute_result"
        }
      ],
      "source": [
        "estadisticas = get_credits()\n",
        "estadisticas.to_csv(\"sagrada_stats.csv\", index=False)\n",
        "estadisticas"
      ]
    },
    {
      "cell_type": "markdown",
      "metadata": {
        "id": "pBYRQ_oNO2FC"
      },
      "source": [
        "## Extracion de relaciones\n"
      ]
    },
    {
      "cell_type": "code",
      "execution_count": 59,
      "metadata": {
        "id": "x2br0z36Tba0"
      },
      "outputs": [],
      "source": [
        "creditos_csv = pd.read_csv('sagrada_stats.csv')"
      ]
    },
    {
      "cell_type": "code",
      "execution_count": 60,
      "metadata": {
        "id": "lqcG4G36Tjpi"
      },
      "outputs": [],
      "source": [
        "relaciones = []\n",
        "def agregar_relacion(sujeto1, relacion, sujeto2):\n",
        "    relaciones.append({\n",
        "        \"SUJETO1\": sujeto1,\n",
        "        \"RELACION\": relacion,\n",
        "        \"SUJETO2\": sujeto2\n",
        "    })"
      ]
    },
    {
      "cell_type": "code",
      "execution_count": 61,
      "metadata": {
        "id": "0sbBQcaETojR"
      },
      "outputs": [],
      "source": [
        "# Nombre del juego\n",
        "juego = creditos_csv.iloc[0, 1]"
      ]
    },
    {
      "cell_type": "code",
      "execution_count": 62,
      "metadata": {
        "id": "BPbxKQvCTu0V"
      },
      "outputs": [],
      "source": [
        "# Iteramos sobre cada fila para obtener las relaciones\n",
        "for index, row in creditos_csv.iterrows():\n",
        "    credit = row['Credit']\n",
        "    value = row['Value 1']\n",
        "\n",
        "    # Ignoramos las filas de 'year released' y 'Altername Names'\n",
        "    if credit in ['Year Released', 'Alternate Names']:\n",
        "        continue\n",
        "\n",
        "    # Si el valor no es NaN o vacío, procesamos la relación\n",
        "    if pd.notna(value) and value != \"N/A\":\n",
        "\n",
        "        items = value.split('\\n')\n",
        "\n",
        "        # Usamos el nombre del 'Credit' como la relación\n",
        "        relacion = credit\n",
        "\n",
        "        # Agregar una relación por cada elemento en la lista\n",
        "        for item in items:\n",
        "            item = item.strip()  # Limpiar espacios extra\n",
        "            if item:  # Asegurarse de no agregar relaciones vacías\n",
        "                agregar_relacion(juego, relacion, item)\n"
      ]
    },
    {
      "cell_type": "code",
      "execution_count": 63,
      "metadata": {
        "id": "O4zghnuHUV35"
      },
      "outputs": [],
      "source": [
        "# Crear el DataFrame con las relaciones\n",
        "df_relaciones = pd.DataFrame(relaciones)"
      ]
    },
    {
      "cell_type": "code",
      "execution_count": 64,
      "metadata": {
        "colab": {
          "base_uri": "https://localhost:8080/"
        },
        "id": "gxCCogrlUorv",
        "outputId": "0b8f298b-4e53-47a9-81c5-aeab1a0b02ff"
      },
      "outputs": [
        {
          "name": "stdout",
          "output_type": "stream",
          "text": [
            "   SUJETO1      RELACION          SUJETO2\n",
            "0  Sagrada  Primary Name          Sagrada\n",
            "1  Sagrada     Designers  Adrian Adamescu\n",
            "2  Sagrada     Designers    Daryl Andrews\n",
            "3  Sagrada        Artist     Peter Wocken\n",
            "4  Sagrada    Publishers  Floodgate Games\n",
            "Total de relaciones encontradas: 49\n"
          ]
        }
      ],
      "source": [
        "# Mostrar las primeras relaciones para verificar\n",
        "print(df_relaciones.head())\n",
        "print(f\"Total de relaciones encontradas: {len(df_relaciones)}\")\n",
        "\n",
        "# Guardar a un CSV\n",
        "df_relaciones.to_csv(\"relaciones_sagrada_generadas.csv\", index=False)"
      ]
    },
    {
      "cell_type": "markdown",
      "metadata": {},
      "source": [
        "## Extracción de relaciones mediante los links"
      ]
    },
    {
      "cell_type": "code",
      "execution_count": 65,
      "metadata": {},
      "outputs": [],
      "source": [
        "chrome_options = Options()\n",
        "chrome_options.add_argument(\"--headless\")\n",
        "driver = webdriver.Chrome(options=chrome_options)"
      ]
    },
    {
      "cell_type": "code",
      "execution_count": 66,
      "metadata": {},
      "outputs": [],
      "source": [
        "# =================== Ruta al CSV base ===================\n",
        "ruta_csv = Path('sagrada') / 'codigo' / 'relaciones_sagrada_generadas.csv'\n",
        "creditos_csv = pd.read_csv(ruta_csv)"
      ]
    },
    {
      "cell_type": "code",
      "execution_count": 67,
      "metadata": {},
      "outputs": [],
      "source": [
        "# =================== Diccionarios por tipo de categoría ===================\n",
        "diseñadores_y_artistas = {\n",
        "    \"Daryl Andrews\": \"https://boardgamegeek.com/boardgamedesigner/67502/daryl-andrews\",\n",
        "    \"Adrian Adamescu\": \"https://boardgamegeek.com/boardgamedesigner/88370/adrian-adamescu\",\n",
        "    \"Peter Wocken\": \"https://boardgamegeek.com/boardgameartist/39902/peter-wocken\"\n",
        "}\n",
        "\n",
        "editoriales = {\n",
        "        \"Floodgate Games\": \"https://boardgamegeek.com/boardgamepublisher/21756/floodgate-games\",\n",
        "        \"Cranio Creations\": \"https://boardgamegeek.com/boardgamepublisher/10768/cranio-creations\",\n",
        "        \"CrowD Games\": \"https://boardgamegeek.com/boardgamepublisher/34522/crowd-games\",\n",
        "        \"Devir\": \"https://boardgamegeek.com/boardgamepublisher/2366/devir\",\n",
        "        \"FoxGames\": \"https://boardgamegeek.com/boardgamepublisher/26380/foxgames\",\n",
        "        \"Galápagos Jogos\": \"https://boardgamegeek.com/boardgamepublisher/15605/galapagos-jogos\",\n",
        "        \"Geekach Games\": \"https://boardgamegeek.com/boardgamepublisher/45134/geekach-games\",\n",
        "        \"Lanlalen\": \"https://boardgamegeek.com/boardgamepublisher/36210/lanlalen\",\n",
        "        \"Lex Games\": \"https://boardgamegeek.com/boardgamepublisher/25203/lex-games\",\n",
        "        \"Mandoo Games\": \"https://boardgamegeek.com/boardgamepublisher/30521/mandoo-games\",\n",
        "        \"Matagot\": \"https://boardgamegeek.com/boardgamepublisher/5400/matagot\",\n",
        "        \"MEBO Games\": \"https://boardgamegeek.com/boardgamepublisher/38392/mebo-games\",\n",
        "        \"MINDOK\": \"https://boardgamegeek.com/boardgamepublisher/7992/mindok\",\n",
        "        \"MIPL\": \"https://boardgamegeek.com/boardgamepublisher/51614/mipl\",\n",
        "        \"One Moment Games\": \"https://boardgamegeek.com/boardgamepublisher/30552/one-moment-games\",\n",
        "        \"Pegasus Spiele\": \"https://boardgamegeek.com/boardgamepublisher/39/pegasus-spiele\",\n",
        "        \"Reflexshop\": \"https://boardgamegeek.com/boardgamepublisher/36563/reflexshop\",\n",
        "        \"Yes Papa Games\": \"https://boardgamegeek.com/boardgamepublisher/45523/yes-papa-games\"\n",
        "}\n",
        "\n",
        "categorias = {\n",
        "    \"Dice\": \"https://boardgamegeek.com/boardgamecategory/1017/dice\",\n",
        "    \"Puzzle\": \"https://boardgamegeek.com/boardgamecategory/1028/puzzle\"\n",
        "}\n",
        "\n",
        "mecanicas = {\n",
        "        \"Contracts\": \"https://boardgamegeek.com/boardgamemechanic/2912/contracts\",\n",
        "        \"Dice Rolling\": \"https://boardgamegeek.com/boardgamemechanic/2072/dice-rolling\",\n",
        "        \"End Game Bonuses\": \"https://boardgamegeek.com/boardgamemechanic/2875/end-game-bonuses\",\n",
        "        \"Grid Coverage\": \"https://boardgamegeek.com/boardgamemechanic/2978/grid-coverage\",\n",
        "        \"Open Drafting\": \"https://boardgamegeek.com/boardgamemechanic/2041/open-drafting\",\n",
        "        \"Pattern Building\": \"https://boardgamegeek.com/boardgamemechanic/2048/pattern-building\",\n",
        "        \"Set Collection\": \"https://boardgamegeek.com/boardgamemechanic/2004/set-collection\",\n",
        "        \"Solo / Solitaire Game\": \"https://boardgamegeek.com/boardgamemechanic/2819/solo-solitaire-game\",\n",
        "        \"Turn Order: Progressive\": \"https://boardgamegeek.com/boardgamemechanic/2828/turn-order-progressive\",\n",
        "        \"Variable Set-up\": \"https://boardgamegeek.com/boardgamemechanic/2897/variable-set-up\"\n",
        "}\n",
        "\n",
        "familias = {\n",
        "        \"Category: Dized Tutorial\": \"https://boardgamegeek.com/boardgamefamily/77906/category-dized-tutorial\",\n",
        "        \"Cities: Barcelona (Spain)\": \"https://boardgamegeek.com/boardgamefamily/18639/cities-barcelona-spain\",\n",
        "        \"Components: Dice as Playing Units\": \"https://boardgamegeek.com/boardgamefamily/79497/components-dice-as-playing-units\",\n",
        "        \"Crowdfunding: Kickstarter\": \"https://boardgamegeek.com/boardgamefamily/8374/crowdfunding-kickstarter\",\n",
        "        \"Digital Implementations: Google Play\": \"https://boardgamegeek.com/boardgamefamily/78432/digital-implementations-google-play\",\n",
        "        \"Digital Implementations: Steam\": \"https://boardgamegeek.com/boardgamefamily/77349/digital-implementations-steam\",\n",
        "        \"Game: Sagrada\": \"https://boardgamegeek.com/boardgamefamily/50196/game-sagrada\",\n",
        "        \"Mechanism: Dice Drafting\": \"https://boardgamegeek.com/boardgamefamily/65163/mechanism-dice-drafting\",\n",
        "        \"Misc: Watch It Played How To Videos\": \"https://boardgamegeek.com/boardgamefamily/78198/misc-watch-it-played-how-to-videos\",\n",
        "        \"Organizations: The Game Artisans of Canada\": \"https://boardgamegeek.com/boardgamefamily/4705/organizations-the-game-artisans-of-canada\",\n",
        "        \"Players: Games with Solitaire Rules\": \"https://boardgamegeek.com/boardgamefamily/5666/players-games-with-solitaire-rules\",\n",
        "        \"Theme: Art\": \"https://boardgamegeek.com/boardgamefamily/56419/theme-art\",\n",
        "        \"Theme: Art style – Art Nouveau\": \"https://boardgamegeek.com/boardgamefamily/75454/theme-art-style-art-nouveau\",\n",
        "        \"Theme: Stained glass\": \"https://boardgamegeek.com/boardgamefamily/110914/theme-stained-glass\"\n",
        "}\n"
      ]
    },
    {
      "cell_type": "code",
      "execution_count": 68,
      "metadata": {},
      "outputs": [],
      "source": [
        "# =================== Unir todo en un solo diccionario por tipo ===================\n",
        "perfiles_conocidos = {}\n",
        "\n",
        "for nombre, url in diseñadores_y_artistas.items():\n",
        "    perfiles_conocidos[nombre] = (\"Diseñador\", url)\n",
        "\n",
        "for nombre, url in editoriales.items():\n",
        "    perfiles_conocidos[nombre] = (\"Editorial\", url)\n",
        "\n",
        "for nombre, url in categorias.items():\n",
        "    perfiles_conocidos[nombre] = (\"Categoría\", url)\n",
        "\n",
        "for nombre, url in mecanicas.items():\n",
        "    perfiles_conocidos[nombre] = (\"Mecánica\", url)\n",
        "\n",
        "for nombre, url in familias.items():\n",
        "    perfiles_conocidos[nombre] = (\"Familia\", url)"
      ]
    },
    {
      "cell_type": "code",
      "execution_count": 69,
      "metadata": {},
      "outputs": [
        {
          "name": "stdout",
          "output_type": "stream",
          "text": [
            "            SUJETO1             RELACION  \\\n",
            "0     Daryl Andrews  Sagrada - Diseñador   \n",
            "1   Adrian Adamescu  Sagrada - Diseñador   \n",
            "2      Peter Wocken  Sagrada - Diseñador   \n",
            "3   Floodgate Games  Sagrada - Editorial   \n",
            "4  Cranio Creations  Sagrada - Editorial   \n",
            "\n",
            "                                             SUJETO2  \n",
            "0  Daryl is a game designer and a member of the G...  \n",
            "1  Adrian is a Game Designer and a member of theG...  \n",
            "2  I am the Head of Graphic Design at Pandasaurus...  \n",
            "3                         Microbadge:Floodgate Games  \n",
            "4  Cranio Creationsis a new and creative Italian ...  \n"
          ]
        }
      ],
      "source": [
        "# =================== Scrap y construcción del DataFrame ===================\n",
        "relaciones_expandidas = []\n",
        "\n",
        "for sujeto1, (tipo, url) in perfiles_conocidos.items():\n",
        "    try:\n",
        "        driver.get(url)\n",
        "        time.sleep(3)\n",
        "        soup = BeautifulSoup(driver.page_source, \"html.parser\")\n",
        "        primer_p = soup.find(\"p\")\n",
        "        texto_completo = primer_p.get_text(strip=True) if primer_p else \"Sin párrafo\"\n",
        "        relaciones_expandidas.append({\n",
        "            \"SUJETO1\": sujeto1,\n",
        "            \"RELACION\": f\"Sagrada - {tipo}\",\n",
        "            \"SUJETO2\": texto_completo\n",
        "        })\n",
        "    except Exception as e:\n",
        "        relaciones_expandidas.append({\n",
        "            \"SUJETO1\": sujeto1,\n",
        "            \"RELACION\": f\"Sagrada - {tipo}\",\n",
        "            \"SUJETO2\": f\"Error accediendo: {e}\"\n",
        "        })\n",
        "\n",
        "driver.quit()\n",
        "\n",
        "df = pd.DataFrame(relaciones_expandidas)\n",
        "df.to_csv(\"relaciones_mediante_links.csv\", index=False)\n",
        "print(df.head())"
      ]
    }
  ],
  "metadata": {
    "colab": {
      "include_colab_link": true,
      "provenance": []
    },
    "kernelspec": {
      "display_name": "Python 3",
      "name": "python3"
    },
    "language_info": {
      "codemirror_mode": {
        "name": "ipython",
        "version": 3
      },
      "file_extension": ".py",
      "mimetype": "text/x-python",
      "name": "python",
      "nbconvert_exporter": "python",
      "pygments_lexer": "ipython3",
      "version": "3.11.9"
    }
  },
  "nbformat": 4,
  "nbformat_minor": 0
}
